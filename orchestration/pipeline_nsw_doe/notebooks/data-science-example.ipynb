{
 "cells": [
  {
   "cell_type": "code",
   "execution_count": 11,
   "id": "edec6ecf",
   "metadata": {
    "noteable": {}
   },
   "outputs": [],
   "source": [
    "import pandas as pd\n",
    "import dagstermill"
   ]
  },
  {
   "cell_type": "code",
   "execution_count": 12,
   "id": "9056d755",
   "metadata": {},
   "outputs": [],
   "source": [
    "context = dagstermill.get_context(op_config=3)"
   ]
  },
  {
   "cell_type": "code",
   "execution_count": 13,
   "id": "9c597f3d",
   "metadata": {
    "tags": [
     "parameters"
    ]
   },
   "outputs": [],
   "source": [
    "# this cell has been tagged with \"parameters\"\n",
    "\n",
    "# Having the iris fetching code in the parameters cell allows dagster to overwrite this cell and replace\n",
    "# it with the contents of the upstream iris_dataset asset. If you want to run the notebook locally, this\n",
    "# cell will remain, which allows you to fetch the dataset directly.\n",
    "\n",
    "\n",
    "def iris_dataset() -> pd.DataFrame:\n",
    "    return pd.read_csv(\n",
    "        \"https://docs.dagster.io/assets/iris.csv\",\n",
    "        names=[\n",
    "            \"sepal_length_cm\",\n",
    "            \"sepal_width_cm\",\n",
    "            \"petal_length_cm\",\n",
    "            \"petal_width_cm\",\n",
    "            \"species\",\n",
    "        ],\n",
    "    )\n",
    "\n",
    "metrics_by_year_school_saved_query =  iris_dataset()"
   ]
  },
  {
   "cell_type": "code",
   "execution_count": 14,
   "id": "be86a263",
   "metadata": {},
   "outputs": [],
   "source": [
    "# Descriptive analysis"
   ]
  },
  {
   "cell_type": "code",
   "execution_count": 15,
   "id": "2e77ee60",
   "metadata": {
    "noteable": {}
   },
   "outputs": [
    {
     "data": {
      "text/html": [
       "<div>\n",
       "<style scoped>\n",
       "    .dataframe tbody tr th:only-of-type {\n",
       "        vertical-align: middle;\n",
       "    }\n",
       "\n",
       "    .dataframe tbody tr th {\n",
       "        vertical-align: top;\n",
       "    }\n",
       "\n",
       "    .dataframe thead th {\n",
       "        text-align: right;\n",
       "    }\n",
       "</style>\n",
       "<table border=\"1\" class=\"dataframe\">\n",
       "  <thead>\n",
       "    <tr style=\"text-align: right;\">\n",
       "      <th></th>\n",
       "      <th>sepal_length_cm</th>\n",
       "      <th>sepal_width_cm</th>\n",
       "      <th>petal_length_cm</th>\n",
       "      <th>petal_width_cm</th>\n",
       "      <th>species</th>\n",
       "    </tr>\n",
       "  </thead>\n",
       "  <tbody>\n",
       "    <tr>\n",
       "      <th>0</th>\n",
       "      <td>5.1</td>\n",
       "      <td>3.5</td>\n",
       "      <td>1.4</td>\n",
       "      <td>0.2</td>\n",
       "      <td>Iris-setosa</td>\n",
       "    </tr>\n",
       "    <tr>\n",
       "      <th>1</th>\n",
       "      <td>4.9</td>\n",
       "      <td>3.0</td>\n",
       "      <td>1.4</td>\n",
       "      <td>0.2</td>\n",
       "      <td>Iris-setosa</td>\n",
       "    </tr>\n",
       "    <tr>\n",
       "      <th>2</th>\n",
       "      <td>4.7</td>\n",
       "      <td>3.2</td>\n",
       "      <td>1.3</td>\n",
       "      <td>0.2</td>\n",
       "      <td>Iris-setosa</td>\n",
       "    </tr>\n",
       "    <tr>\n",
       "      <th>3</th>\n",
       "      <td>4.6</td>\n",
       "      <td>3.1</td>\n",
       "      <td>1.5</td>\n",
       "      <td>0.2</td>\n",
       "      <td>Iris-setosa</td>\n",
       "    </tr>\n",
       "    <tr>\n",
       "      <th>4</th>\n",
       "      <td>5.0</td>\n",
       "      <td>3.6</td>\n",
       "      <td>1.4</td>\n",
       "      <td>0.2</td>\n",
       "      <td>Iris-setosa</td>\n",
       "    </tr>\n",
       "  </tbody>\n",
       "</table>\n",
       "</div>"
      ],
      "text/plain": [
       "   sepal_length_cm  sepal_width_cm  petal_length_cm  petal_width_cm  \\\n",
       "0              5.1             3.5              1.4             0.2   \n",
       "1              4.9             3.0              1.4             0.2   \n",
       "2              4.7             3.2              1.3             0.2   \n",
       "3              4.6             3.1              1.5             0.2   \n",
       "4              5.0             3.6              1.4             0.2   \n",
       "\n",
       "       species  \n",
       "0  Iris-setosa  \n",
       "1  Iris-setosa  \n",
       "2  Iris-setosa  \n",
       "3  Iris-setosa  \n",
       "4  Iris-setosa  "
      ]
     },
     "execution_count": 15,
     "metadata": {},
     "output_type": "execute_result"
    }
   ],
   "source": [
    "metrics_by_year_school_saved_query.head()"
   ]
  }
 ],
 "metadata": {
  "celltoolbar": "Tags",
  "kernelspec": {
   "display_name": "Python 3 (ipykernel)",
   "language": "python",
   "name": "python3"
  },
  "language_info": {
   "codemirror_mode": {
    "name": "ipython",
    "version": 3
   },
   "file_extension": ".py",
   "mimetype": "text/x-python",
   "name": "python",
   "nbconvert_exporter": "python",
   "pygments_lexer": "ipython3",
   "version": "3.11.0"
  },
  "noteable": {
   "last_delta_id": "00000000-0000-0000-0000-000000000000",
   "last_transaction_id": "35ab1517-a0d0-490d-8033-2b9e0acd86bd"
  },
  "nteract": {
   "version": "noteable@2.9.0"
  },
  "vscode": {
   "interpreter": {
    "hash": "e5fba353c56c7ba0bcc92cb4e3a58f4a2d45616f71cf3092e3e47a9c9267b682"
   }
  }
 },
 "nbformat": 4,
 "nbformat_minor": 5
}
