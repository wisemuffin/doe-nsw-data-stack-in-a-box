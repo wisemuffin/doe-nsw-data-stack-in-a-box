{
 "cells": [
  {
   "cell_type": "code",
   "execution_count": 1,
   "metadata": {},
   "outputs": [],
   "source": [
    "import pandas as pd"
   ]
  },
  {
   "cell_type": "code",
   "execution_count": 2,
   "metadata": {},
   "outputs": [],
   "source": [
    "url = 'https://data.nsw.gov.au/data/dataset/b558a070-09f5-4941-a140-e60a744327bf/resource/df5e3989-0595-4c61-94ab-0f63ab6b1528/download/2023-attendance-rates-by-government-schools.csv'"
   ]
  },
  {
   "cell_type": "code",
   "execution_count": 5,
   "metadata": {},
   "outputs": [],
   "source": [
    "df = pd.read_csv(url)"
   ]
  },
  {
   "cell_type": "code",
   "execution_count": 6,
   "metadata": {},
   "outputs": [
    {
     "data": {
      "text/html": [
       "<div>\n",
       "<style scoped>\n",
       "    .dataframe tbody tr th:only-of-type {\n",
       "        vertical-align: middle;\n",
       "    }\n",
       "\n",
       "    .dataframe tbody tr th {\n",
       "        vertical-align: top;\n",
       "    }\n",
       "\n",
       "    .dataframe thead th {\n",
       "        text-align: right;\n",
       "    }\n",
       "</style>\n",
       "<table border=\"1\" class=\"dataframe\">\n",
       "  <thead>\n",
       "    <tr style=\"text-align: right;\">\n",
       "      <th></th>\n",
       "      <th>school_code</th>\n",
       "      <th>school_name</th>\n",
       "      <th>2011</th>\n",
       "      <th>2012</th>\n",
       "      <th>2013</th>\n",
       "      <th>2014</th>\n",
       "      <th>2015</th>\n",
       "      <th>2016</th>\n",
       "      <th>2017</th>\n",
       "      <th>2018</th>\n",
       "      <th>2019</th>\n",
       "      <th>2021</th>\n",
       "      <th>2022</th>\n",
       "      <th>2023</th>\n",
       "    </tr>\n",
       "  </thead>\n",
       "  <tbody>\n",
       "    <tr>\n",
       "      <th>0</th>\n",
       "      <td>1001.0</td>\n",
       "      <td>Abbotsford Public School</td>\n",
       "      <td>94.3</td>\n",
       "      <td>95.9</td>\n",
       "      <td>95.7</td>\n",
       "      <td>95.3</td>\n",
       "      <td>94.6</td>\n",
       "      <td>95.2</td>\n",
       "      <td>94.1</td>\n",
       "      <td>94.9</td>\n",
       "      <td>94.3</td>\n",
       "      <td>94.3</td>\n",
       "      <td>89</td>\n",
       "      <td>92.3</td>\n",
       "    </tr>\n",
       "    <tr>\n",
       "      <th>1</th>\n",
       "      <td>1002.0</td>\n",
       "      <td>Aberdeen Public School</td>\n",
       "      <td>93.6</td>\n",
       "      <td>94.2</td>\n",
       "      <td>95.2</td>\n",
       "      <td>95.3</td>\n",
       "      <td>95</td>\n",
       "      <td>92.7</td>\n",
       "      <td>91.9</td>\n",
       "      <td>91.3</td>\n",
       "      <td>89.5</td>\n",
       "      <td>88.4</td>\n",
       "      <td>83.9</td>\n",
       "      <td>88.5</td>\n",
       "    </tr>\n",
       "    <tr>\n",
       "      <th>2</th>\n",
       "      <td>1003.0</td>\n",
       "      <td>Abermain Public School</td>\n",
       "      <td>93.5</td>\n",
       "      <td>93</td>\n",
       "      <td>92</td>\n",
       "      <td>92.8</td>\n",
       "      <td>91.4</td>\n",
       "      <td>91.5</td>\n",
       "      <td>92.8</td>\n",
       "      <td>91</td>\n",
       "      <td>90.3</td>\n",
       "      <td>89.2</td>\n",
       "      <td>85.2</td>\n",
       "      <td>88</td>\n",
       "    </tr>\n",
       "    <tr>\n",
       "      <th>3</th>\n",
       "      <td>1007.0</td>\n",
       "      <td>Adaminaby Public School</td>\n",
       "      <td>95.4</td>\n",
       "      <td>96.4</td>\n",
       "      <td>97.2</td>\n",
       "      <td>96.2</td>\n",
       "      <td>90.9</td>\n",
       "      <td>85.5</td>\n",
       "      <td>95.6</td>\n",
       "      <td>92.2</td>\n",
       "      <td>94</td>\n",
       "      <td>90.7</td>\n",
       "      <td>75.7</td>\n",
       "      <td>89.9</td>\n",
       "    </tr>\n",
       "    <tr>\n",
       "      <th>4</th>\n",
       "      <td>1008.0</td>\n",
       "      <td>Adamstown Public School</td>\n",
       "      <td>94.8</td>\n",
       "      <td>95.4</td>\n",
       "      <td>94.7</td>\n",
       "      <td>95.8</td>\n",
       "      <td>95.1</td>\n",
       "      <td>93.2</td>\n",
       "      <td>93</td>\n",
       "      <td>92.6</td>\n",
       "      <td>92.7</td>\n",
       "      <td>93.3</td>\n",
       "      <td>87.5</td>\n",
       "      <td>93.1</td>\n",
       "    </tr>\n",
       "  </tbody>\n",
       "</table>\n",
       "</div>"
      ],
      "text/plain": [
       "   school_code               school_name  2011  2012  2013  2014  2015  2016  \\\n",
       "0       1001.0  Abbotsford Public School  94.3  95.9  95.7  95.3  94.6  95.2   \n",
       "1       1002.0    Aberdeen Public School  93.6  94.2  95.2  95.3    95  92.7   \n",
       "2       1003.0    Abermain Public School  93.5    93    92  92.8  91.4  91.5   \n",
       "3       1007.0   Adaminaby Public School  95.4  96.4  97.2  96.2  90.9  85.5   \n",
       "4       1008.0   Adamstown Public School  94.8  95.4  94.7  95.8  95.1  93.2   \n",
       "\n",
       "   2017  2018  2019  2021  2022  2023  \n",
       "0  94.1  94.9  94.3  94.3    89  92.3  \n",
       "1  91.9  91.3  89.5  88.4  83.9  88.5  \n",
       "2  92.8    91  90.3  89.2  85.2    88  \n",
       "3  95.6  92.2    94  90.7  75.7  89.9  \n",
       "4    93  92.6  92.7  93.3  87.5  93.1  "
      ]
     },
     "execution_count": 6,
     "metadata": {},
     "output_type": "execute_result"
    }
   ],
   "source": [
    "df.head()"
   ]
  },
  {
   "cell_type": "code",
   "execution_count": 7,
   "metadata": {},
   "outputs": [
    {
     "data": {
      "text/plain": [
       "(2214, 14)"
      ]
     },
     "execution_count": 7,
     "metadata": {},
     "output_type": "execute_result"
    }
   ],
   "source": [
    "df.shape"
   ]
  },
  {
   "cell_type": "code",
   "execution_count": null,
   "metadata": {},
   "outputs": [],
   "source": []
  }
 ],
 "metadata": {
  "kernelspec": {
   "display_name": ".venv",
   "language": "python",
   "name": "python3"
  },
  "language_info": {
   "codemirror_mode": {
    "name": "ipython",
    "version": 3
   },
   "file_extension": ".py",
   "mimetype": "text/x-python",
   "name": "python",
   "nbconvert_exporter": "python",
   "pygments_lexer": "ipython3",
   "version": "3.11.0"
  }
 },
 "nbformat": 4,
 "nbformat_minor": 2
}
